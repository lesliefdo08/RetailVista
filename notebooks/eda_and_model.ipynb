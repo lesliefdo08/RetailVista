{
 "cells": [
  {
   "cell_type": "markdown",
   "id": "56a4103b",
   "metadata": {},
   "source": [
    "# RetailVista: EDA, Preprocessing, and Model Training\n",
    "**Author: Leslie Fernando**\n",
    "This notebook covers exploratory data analysis, data cleaning, feature engineering, model training, and evaluation for supermarket sales prediction."
   ]
  },
  {
   "cell_type": "code",
   "execution_count": null,
   "id": "b8dd0f4a",
   "metadata": {},
   "outputs": [],
   "source": [
    "# Import libraries\n",
    "import pandas as pd\n",
    "import numpy as np\n",
    "import matplotlib.pyplot as plt\n",
    "import seaborn as sns\n",
    "from sklearn.model_selection import train_test_split\n",
    "from sklearn.metrics import mean_squared_error, mean_absolute_error, r2_score\n",
    "from sklearn.ensemble import RandomForestRegressor\n",
    "import xgboost as xgb\n",
    "import joblib"
   ]
  },
  {
   "cell_type": "markdown",
   "id": "6367c4c9",
   "metadata": {},
   "source": [
    "## 1. Load Data\n",
    "*Notebook by Leslie Fernando*\n",
    "Place your dataset (e.g., `supermarket_sales.csv`) in the `data/` folder."
   ]
  },
  {
   "cell_type": "code",
   "execution_count": null,
   "id": "a635becb",
   "metadata": {},
   "outputs": [],
   "source": [
    "# Load data\n",
    "import os\n",
    "data_path = '../data/supermarket_sales.csv'\n",
    "if not os.path.exists(data_path):\n",
    "    raise FileNotFoundError('Dataset not found! Please place supermarket_sales.csv in the data/ folder.')\n",
    "df = pd.read_csv(data_path)  # Update filename if needed\n",
    "df.head()"
   ]
  },
  {
   "cell_type": "markdown",
   "id": "467c64de",
   "metadata": {},
   "source": [
    "## 2. Data Preprocessing\n",
    "- Handle missing values\n",
    "- Encode categorical variables\n",
    "- Feature engineering (e.g., extract date features)\n",
    "- Check for outliers and data consistency\n",
    "- Visualize distributions and correlations"
   ]
  },
  {
   "cell_type": "markdown",
   "id": "40693bcc",
   "metadata": {},
   "source": [
    "## 3. Model Selection, Training, and Tuning\n",
    "Try multiple models (Random Forest, XGBoost) and tune hyperparameters for best results."
   ]
  },
  {
   "cell_type": "markdown",
   "id": "21824ca4",
   "metadata": {},
   "source": [
    "## 4. Model Evaluation and Selection\n",
    "Evaluate models using RMSE, MAE, and R². Select the best model for saving and deployment."
   ]
  },
  {
   "cell_type": "markdown",
   "id": "e629990a",
   "metadata": {},
   "source": [
    "## 5. Save the Best Model and Deploy\n",
    "Save the best performing model to the `model/` folder for use in the Streamlit app."
   ]
  },
  {
   "cell_type": "code",
   "execution_count": null,
   "id": "13c0487f",
   "metadata": {},
   "outputs": [],
   "source": [
    "# Save the best model for deployment\n",
    "import joblib\n",
    "joblib.dump(best_model, '../model/sales_predictor.joblib')\n",
    "print('Best model saved to ../model/sales_predictor.joblib')"
   ]
  },
  {
   "cell_type": "code",
   "execution_count": null,
   "id": "74d805bb",
   "metadata": {},
   "outputs": [],
   "source": [
    "# Evaluate both models and select the best one\n",
    "def print_metrics(y_true, y_pred, model_name):\n",
    "    print(f'{model_name} Results:')\n",
    "    print('RMSE:', np.sqrt(mean_squared_error(y_true, y_pred)))\n",
    "    print('MAE:', mean_absolute_error(y_true, y_pred))\n",
    "    print('R2:', r2_score(y_true, y_pred))\n",
    "    print('-'*30)\n",
    "rf_pred = best_rf.predict(X_test)\n",
    "xgb_pred = best_xgb.predict(X_test)\n",
    "print_metrics(y_test, rf_pred, 'Random Forest (Tuned)')\n",
    "print_metrics(y_test, xgb_pred, 'XGBoost (Tuned)')\n",
    "# Choose the best model based on RMSE\n",
    "best_model = best_rf if np.sqrt(mean_squared_error(y_test, rf_pred)) < np.sqrt(mean_squared_error(y_test, xgb_pred)) else best_xgb"
   ]
  },
  {
   "cell_type": "code",
   "execution_count": null,
   "id": "5ac99019",
   "metadata": {},
   "outputs": [],
   "source": [
    "# Hyperparameter tuning example (XGBoost)\n",
    "xgb_params = {\n",
    "    'n_estimators': [100, 200],\n",
    "    'max_depth': [3, 6, 10],\n",
    "    'learning_rate': [0.01, 0.1, 0.2]\n",
    "}\n",
    "xgb_model = xgb.XGBRegressor(random_state=42)\n",
    "xgb_grid = GridSearchCV(xgb_model, xgb_params, cv=3, scoring='neg_root_mean_squared_error')\n",
    "xgb_grid.fit(X_train, y_train)\n",
    "print('Best XGB Params:', xgb_grid.best_params_)\n",
    "best_xgb = xgb_grid.best_estimator_"
   ]
  },
  {
   "cell_type": "code",
   "execution_count": null,
   "id": "16f06443",
   "metadata": {},
   "outputs": [],
   "source": [
    "# Hyperparameter tuning example (Random Forest)\n",
    "from sklearn.model_selection import GridSearchCV\n",
    "param_grid = {\n",
    "    'n_estimators': [100, 200],\n",
    "    'max_depth': [None, 10, 20],\n",
    "    'min_samples_split': [2, 5]\n",
    "}\n",
    "rf = RandomForestRegressor(random_state=42)\n",
    "grid_search = GridSearchCV(rf, param_grid, cv=3, scoring='neg_root_mean_squared_error')\n",
    "grid_search.fit(X_train, y_train)\n",
    "print('Best RF Params:', grid_search.best_params_)\n",
    "best_rf = grid_search.best_estimator_"
   ]
  },
  {
   "cell_type": "markdown",
   "id": "866396d9",
   "metadata": {},
   "source": [
    "### Outlier Detection and Correlation Analysis\n",
    "Check for outliers and analyze feature correlations to improve model performance."
   ]
  },
  {
   "cell_type": "code",
   "execution_count": null,
   "id": "f0857969",
   "metadata": {},
   "outputs": [],
   "source": [
    "# Outlier visualization and correlation heatmap\n",
    "numeric_cols = df.select_dtypes(include=['number']).columns\n",
    "df[numeric_cols].boxplot(figsize=(12,6), rot=45)\n",
    "plt.title('Boxplot of Numeric Features')\n",
    "plt.show()\n",
    "plt.figure(figsize=(10,8))\n",
    "sns.heatmap(df[numeric_cols].corr(), annot=True, cmap='coolwarm')\n",
    "plt.title('Correlation Heatmap')\n",
    "plt.show()"
   ]
  },
  {
   "cell_type": "code",
   "execution_count": null,
   "id": "00358afb",
   "metadata": {},
   "outputs": [],
   "source": [
    "# Visualize missing values and basic statistics\n",
    "import matplotlib.pyplot as plt\n",
    "import seaborn as sns\n",
    "plt.figure(figsize=(10,4))\n",
    "sns.heatmap(df.isnull(), cbar=False, cmap='viridis')\n",
    "plt.title('Missing Values Heatmap')\n",
    "plt.show()\n",
    "df.describe()"
   ]
  },
  {
   "cell_type": "markdown",
   "id": "1cca1abb",
   "metadata": {},
   "source": [
    "### Check Data Columns and Types\n",
    "It's important to check the column names and types to ensure compatibility with the rest of the notebook."
   ]
  },
  {
   "cell_type": "code",
   "execution_count": null,
   "id": "1a3273a7",
   "metadata": {},
   "outputs": [],
   "source": [
    "# Display columns and data types\n",
    "df.info()\n",
    "df.head()"
   ]
  },
  {
   "cell_type": "code",
   "execution_count": null,
   "id": "6d440061",
   "metadata": {},
   "outputs": [],
   "source": [
    "# Example preprocessing\n",
    "df = df.dropna()\n",
    "# Convert date column if present\n",
    "if 'Date' in df.columns:\n",
    "    df['Date'] = pd.to_datetime(df['Date'])\n",
    "    df['DayOfWeek'] = df['Date'].dt.dayofweek\n",
    "    df['Month'] = df['Date'].dt.month\n",
    "# Encode categoricals\n",
    "for col in df.select_dtypes(include='object').columns:\n",
    "    if col != 'Date':\n",
    "        df[col] = df[col].astype('category').cat.codes\n",
    "df.head()"
   ]
  },
  {
   "cell_type": "markdown",
   "id": "dad84388",
   "metadata": {},
   "source": [
    "## 3. Feature Selection & Train-Test Split\n",
    "Update the target and features as per your dataset."
   ]
  },
  {
   "cell_type": "code",
   "execution_count": null,
   "id": "1c681935",
   "metadata": {},
   "outputs": [],
   "source": [
    "# Example: Predict 'Total' sales\n",
    "target = 'Total'  # Change as needed\n",
    "features = [col for col in df.columns if col != target]  # Exclude target\n",
    "X = df[features]\n",
    "y = df[target]\n",
    "X_train, X_test, y_train, y_test = train_test_split(X, y, test_size=0.2, random_state=42)"
   ]
  },
  {
   "cell_type": "markdown",
   "id": "03d54bcb",
   "metadata": {},
   "source": [
    "## 4. Model Training (Random Forest & XGBoost)"
   ]
  },
  {
   "cell_type": "code",
   "execution_count": null,
   "id": "99d88127",
   "metadata": {},
   "outputs": [],
   "source": [
    "# Random Forest\n",
    "rf = RandomForestRegressor(n_estimators=100, random_state=42)\n",
    "rf.fit(X_train, y_train)\n",
    "rf_pred = rf.predict(X_test)\n",
    "# XGBoost\n",
    "xgb_model = xgb.XGBRegressor(n_estimators=100, random_state=42)\n",
    "xgb_model.fit(X_train, y_train)\n",
    "xgb_pred = xgb_model.predict(X_test)"
   ]
  },
  {
   "cell_type": "markdown",
   "id": "da283935",
   "metadata": {},
   "source": [
    "## 5. Evaluation\n",
    "Compare models using RMSE, MAE, and R²."
   ]
  },
  {
   "cell_type": "code",
   "execution_count": null,
   "id": "e2dfb0d6",
   "metadata": {},
   "outputs": [],
   "source": [
    "def print_metrics(y_true, y_pred, model_name):\n",
    "    print(f'{model_name} Results:')\n",
    "    print('RMSE:', np.sqrt(mean_squared_error(y_true, y_pred)))\n",
    "    print('MAE:', mean_absolute_error(y_true, y_pred))\n",
    "    print('R2:', r2_score(y_true, y_pred))\n",
    "    print('-'*30)\n",
    "print_metrics(y_test, rf_pred, 'Random Forest')\n",
    "print_metrics(y_test, xgb_pred, 'XGBoost')"
   ]
  },
  {
   "cell_type": "markdown",
   "id": "904aff48",
   "metadata": {},
   "source": [
    "## 6. Save Best Model\n",
    "Save the best performing model to the `model/` folder."
   ]
  },
  {
   "cell_type": "code",
   "execution_count": null,
   "id": "afa35dcc",
   "metadata": {},
   "outputs": [],
   "source": [
    "# Save XGBoost model as example\n",
    "joblib.dump(xgb_model, '../model/sales_predictor.joblib')\n",
    "print('Model saved to ../model/sales_predictor.joblib')"
   ]
  }
 ],
 "metadata": {
  "language_info": {
   "name": "python"
  }
 },
 "nbformat": 4,
 "nbformat_minor": 5
}
